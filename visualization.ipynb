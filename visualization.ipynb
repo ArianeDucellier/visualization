{
 "cells": [
  {
   "cell_type": "markdown",
   "metadata": {},
   "source": [
    "# Visualization project\n",
    "\n",
    "Problem: Visualization of a dataset in 3-4D (latitude, longitude, time, and possibly depth) when the physical phenomenon highlighted in the dataset occurs at different spatial and/or temporal scales"
   ]
  },
  {
   "cell_type": "markdown",
   "metadata": {},
   "source": [
    "## Example of dataset: Tectonic tremor in the Olympic Peninsula, Washington\n",
    "\n",
    "Tremor is a long (several seconds to many minutes), low amplitude seismic signal, with emergent onsets, and an absence of clear impulsive phases. The source of the tremor is located on the plate boundary between the subducting oceanic plate and the overriding continental plate, between about 30 and 40 km depth.\n",
    "\n",
    "What is particulatly interesting about tectonic tremor is that they do not occur all the time, but mostly during big tremor episodes that last a few weeks. During these episodes, the source of the tremor is moving along the strike and the dip of the plate boundary, at different speeds."
   ]
  },
  {
   "cell_type": "markdown",
   "metadata": {},
   "source": [
    "### Main direction of propagation\n",
    "\n",
    "The source of the tremor is propagating from south to north, or from north to south, along the strike of the plate boundary, at a speed of about 10 km per day. The total duration is about six weeks, and the distance traveled is about 400 km."
   ]
  },
  {
   "cell_type": "markdown",
   "metadata": {},
   "source": [
    "### Rapid tremor reversals\n",
    "\n",
    "During an episode of tremor reversal, the source of the tremor is propagating along the strike of the plate boundary, in the opposite direction of the main direction of propagation, at a speed of about 10 km/h. The total duration is a few hours, and the distance traveled is a few dozens of kilometers."
   ]
  },
  {
   "cell_type": "markdown",
   "metadata": {},
   "source": [
    "### Tremor streaks\n",
    "\n",
    "Tremor streaks propagate back and forth along the dip of the plate boundary, in a direction orthogonal to the main direction of propagation, at a speed of about 30 to 90 km/h. Their duration is a few dozens of minutes, and the distance traveled is a few dozens of kilometers."
   ]
  },
  {
   "cell_type": "markdown",
   "metadata": {},
   "source": [
    "### Problem\n",
    "\n",
    "We have a dataset of tremor locations which contains the latitudes, longitudes, depths and time of the tremor sources. We would like to create an interactive visualization tool to observe these phenomena at the appropriate spatial and temporal scales."
   ]
  },
  {
   "cell_type": "markdown",
   "metadata": {},
   "source": [
    "## Work already done\n",
    "\n",
    "- Visualization with Python library altair\n",
    "- Visualization with Python library bokeh"
   ]
  },
  {
   "cell_type": "markdown",
   "metadata": {},
   "source": [
    "## Possible activities\n",
    "\n",
    "- Improving on current visualization tools\n",
    "- Learning to use another Python visualization library (e.g. folium)\n",
    "- Working with another dataset (e.g. from the Missing Maps project)\n",
    "- Your own dataset?"
   ]
  },
  {
   "cell_type": "code",
   "execution_count": null,
   "metadata": {},
   "outputs": [],
   "source": []
  }
 ],
 "metadata": {
  "kernelspec": {
   "display_name": "Python 3",
   "language": "python",
   "name": "python3"
  },
  "language_info": {
   "codemirror_mode": {
    "name": "ipython",
    "version": 3
   },
   "file_extension": ".py",
   "mimetype": "text/x-python",
   "name": "python",
   "nbconvert_exporter": "python",
   "pygments_lexer": "ipython3",
   "version": "3.6.7"
  }
 },
 "nbformat": 4,
 "nbformat_minor": 4
}
