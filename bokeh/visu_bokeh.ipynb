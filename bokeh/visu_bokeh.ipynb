{
 "cells": [
  {
   "cell_type": "markdown",
   "metadata": {},
   "source": [
    "Visualization of tremor catalog with bokeh"
   ]
  },
  {
   "cell_type": "markdown",
   "metadata": {},
   "source": [
    "Import Python packages"
   ]
  },
  {
   "cell_type": "code",
   "execution_count": 1,
   "metadata": {},
   "outputs": [
    {
     "name": "stderr",
     "output_type": "stream",
     "text": [
      "BokehDeprecationWarning: CARTODBPOSITRON was deprecated in Bokeh 1.1.0 and will be removed, use get_provider(Vendors.CARTODBPOSITRON) instead.\n"
     ]
    }
   ],
   "source": [
    "from bokeh.io import curdoc\n",
    "from bokeh.layouts import column, gridplot, layout, widgetbox\n",
    "from bokeh.models import BoxZoomTool, ColumnDataSource, PanTool, ResetTool, WheelZoomTool\n",
    "from bokeh.models.widgets import DateSlider\n",
    "from bokeh.plotting import figure\n",
    "from bokeh.tile_providers import CARTODBPOSITRON\n",
    "\n",
    "from os.path import join, dirname\n",
    "import pandas as pd"
   ]
  },
  {
   "cell_type": "markdown",
   "metadata": {},
   "source": [
    "Define functions"
   ]
  },
  {
   "cell_type": "code",
   "execution_count": 2,
   "metadata": {},
   "outputs": [],
   "source": [
    "def make_plot(selected_data_source, unselected_data_source):    \n",
    "    tools = [ResetTool(), PanTool(), BoxZoomTool(), WheelZoomTool()]\n",
    "    \n",
    "    xmin, xmax = tremors.merc_long.min(), tremors.merc_long.max()\n",
    "    ymin, ymax = tremors.merc_lat.min(), tremors.merc_lat.max()\n",
    "\n",
    "    top = figure(tools=tools, plot_width=600, plot_height=500, title='Tremor locations', x_range=(xmin, xmax), y_range=(ymin, ymax),\n",
    "               x_axis_type=\"mercator\", y_axis_type=\"mercator\")\n",
    "    top.add_tile(CARTODBPOSITRON)\n",
    "    top.circle('merc_long', 'merc_lat', source=unselected_data_source, color='gray', alpha=0.2)\n",
    "    top.circle('merc_long', 'merc_lat', source=selected_data_source, color='red', alpha=1.0)#, view=view)\n",
    "\n",
    "    bottom = figure(plot_width=600, plot_height=80, title=None, x_axis_type=\"datetime\")\n",
    "    bottom.line('date', 'value', source=ColumnDataSource(tremors), color='red', alpha=0.8)\n",
    "\n",
    "    p = gridplot([[top], [bottom]], toolbar_location='right')\n",
    "    \n",
    "    return p"
   ]
  },
  {
   "cell_type": "code",
   "execution_count": 3,
   "metadata": {},
   "outputs": [],
   "source": [
    "def get_datasets(tremors):\n",
    "    '''Filter based on widget\n",
    "    '''\n",
    "    # start with the whole dataset\n",
    "    copy = tremors.copy()\n",
    "    # narrow by selected date from the DateSlider\n",
    "    selected = copy[copy['datetime']==pd.Timestamp(date_slider.value)]\n",
    "    unselected = copy[copy['datetime'] < pd.Timestamp(date_slider.value)]\n",
    "\n",
    "    return {'selected':ColumnDataSource(data=selected), 'unselected':ColumnDataSource(unselected)}"
   ]
  },
  {
   "cell_type": "code",
   "execution_count": 4,
   "metadata": {},
   "outputs": [],
   "source": [
    "def update_plot():\n",
    "    src = get_datasets(df)\n",
    "    selected_data_source.data.update(src['selected'].data)\n",
    "    unselected_data_source.data.update(src['unselected'].data)"
   ]
  },
  {
   "cell_type": "markdown",
   "metadata": {},
   "source": [
    "Read tremor data"
   ]
  },
  {
   "cell_type": "code",
   "execution_count": 5,
   "metadata": {},
   "outputs": [],
   "source": [
    "filename = '../data/tremors.pkl'\n",
    "tremors = pd.read_pickle(filename)"
   ]
  },
  {
   "cell_type": "markdown",
   "metadata": {},
   "source": [
    "Keep only 10 per cent of the tremor (to get a smaller dataset)"
   ]
  },
  {
   "cell_type": "code",
   "execution_count": 6,
   "metadata": {},
   "outputs": [],
   "source": [
    "tremors = tremors.sample(frac=0.1)"
   ]
  },
  {
   "cell_type": "markdown",
   "metadata": {},
   "source": [
    "Lauch code"
   ]
  },
  {
   "cell_type": "code",
   "execution_count": 7,
   "metadata": {},
   "outputs": [],
   "source": [
    "date_slider = DateSlider(start=tremors['datetime'].min(), end=tremors['datetime'].max(), step=100, value=tremors['datetime'].min())\n",
    "date_slider.on_change('value', lambda attr, old, new: update_plot())\n",
    "\n",
    "slider_box = widgetbox(children=[date_slider], width=600)\n",
    "\n",
    "datasets_init = get_datasets(tremors) # get bokeh ColumnDataSource\n",
    "selected_data_source = datasets_init['selected']\n",
    "unselected_data_source = datasets_init['unselected']\n",
    "p = make_plot(selected_data_source, unselected_data_source)\n",
    "\n",
    "layout = layout(children=[[p],[slider_box]], sizing_mode='fixed')\n",
    "\n",
    "curdoc().add_root(layout)"
   ]
  },
  {
   "cell_type": "code",
   "execution_count": null,
   "metadata": {},
   "outputs": [],
   "source": []
  }
 ],
 "metadata": {
  "kernelspec": {
   "display_name": "Python 3",
   "language": "python",
   "name": "python3"
  },
  "language_info": {
   "codemirror_mode": {
    "name": "ipython",
    "version": 3
   },
   "file_extension": ".py",
   "mimetype": "text/x-python",
   "name": "python",
   "nbconvert_exporter": "python",
   "pygments_lexer": "ipython3",
   "version": "3.6.7"
  }
 },
 "nbformat": 4,
 "nbformat_minor": 4
}
